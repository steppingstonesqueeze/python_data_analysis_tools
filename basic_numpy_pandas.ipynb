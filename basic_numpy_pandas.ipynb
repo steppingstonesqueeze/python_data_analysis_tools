{
  "nbformat": 4,
  "nbformat_minor": 0,
  "metadata": {
    "colab": {
      "provenance": []
    },
    "kernelspec": {
      "name": "python3",
      "display_name": "Python 3"
    },
    "language_info": {
      "name": "python"
    }
  },
  "cells": [
    {
      "cell_type": "code",
      "execution_count": 1,
      "metadata": {
        "id": "13hqJdJ05suu"
      },
      "outputs": [],
      "source": [
        "import pandas as pd\n",
        "import numpy as np\n",
        "import random"
      ]
    },
    {
      "cell_type": "code",
      "source": [
        "a = np.array([[1,2,3,4,5,6,7],[8,9,10,11,12,13,14]])\n",
        "print(a)"
      ],
      "metadata": {
        "colab": {
          "base_uri": "https://localhost:8080/"
        },
        "id": "pmKg-Yft5whr",
        "outputId": "768e6787-3841-4dd4-ec6c-50bd88c57d64"
      },
      "execution_count": 2,
      "outputs": [
        {
          "output_type": "stream",
          "name": "stdout",
          "text": [
            "[[ 1  2  3  4  5  6  7]\n",
            " [ 8  9 10 11 12 13 14]]\n"
          ]
        }
      ]
    },
    {
      "cell_type": "code",
      "source": [
        "a[1,5] = -20\n",
        "a[:,2] = [9,9]\n",
        "\n",
        "print(a)"
      ],
      "metadata": {
        "colab": {
          "base_uri": "https://localhost:8080/"
        },
        "id": "NGF5iOzU51lh",
        "outputId": "7a43d9e2-1b56-4bd6-9e20-e8c2f2ed6007"
      },
      "execution_count": 3,
      "outputs": [
        {
          "output_type": "stream",
          "name": "stdout",
          "text": [
            "[[  1   2   9   4   5   6   7]\n",
            " [  8   9   9  11  12 -20  14]]\n"
          ]
        }
      ]
    },
    {
      "cell_type": "code",
      "source": [
        "b = np.array([[[1,2],[3,4]],[[5,6],[7,8]]])\n",
        "print(b)"
      ],
      "metadata": {
        "colab": {
          "base_uri": "https://localhost:8080/"
        },
        "id": "XiXMl2G1559v",
        "outputId": "c2da82b0-52d8-4224-9ac4-d56f464ab332"
      },
      "execution_count": 4,
      "outputs": [
        {
          "output_type": "stream",
          "name": "stdout",
          "text": [
            "[[[1 2]\n",
            "  [3 4]]\n",
            "\n",
            " [[5 6]\n",
            "  [7 8]]]\n"
          ]
        }
      ]
    },
    {
      "cell_type": "code",
      "source": [
        "print(b.shape)"
      ],
      "metadata": {
        "colab": {
          "base_uri": "https://localhost:8080/"
        },
        "id": "s6Q6ArBi6Aw6",
        "outputId": "b597f7bb-e29a-4d2a-a280-374cfe7a27f7"
      },
      "execution_count": 5,
      "outputs": [
        {
          "output_type": "stream",
          "name": "stdout",
          "text": [
            "(2, 2, 2)\n"
          ]
        }
      ]
    },
    {
      "cell_type": "code",
      "source": [
        "b[0,1,1]\n"
      ],
      "metadata": {
        "colab": {
          "base_uri": "https://localhost:8080/"
        },
        "id": "C4KcpfUn6Dgx",
        "outputId": "4679bfe2-2012-41d7-ccd7-18d75d910b76"
      },
      "execution_count": 6,
      "outputs": [
        {
          "output_type": "execute_result",
          "data": {
            "text/plain": [
              "np.int64(4)"
            ]
          },
          "metadata": {},
          "execution_count": 6
        }
      ]
    },
    {
      "cell_type": "code",
      "source": [
        "# All 0s matrix\n",
        "np.zeros((2,3))"
      ],
      "metadata": {
        "colab": {
          "base_uri": "https://localhost:8080/"
        },
        "id": "1M_rTCBm6HeX",
        "outputId": "0ef4e015-0295-426e-f1b2-906ec423653a"
      },
      "execution_count": 7,
      "outputs": [
        {
          "output_type": "execute_result",
          "data": {
            "text/plain": [
              "array([[0., 0., 0.],\n",
              "       [0., 0., 0.]])"
            ]
          },
          "metadata": {},
          "execution_count": 7
        }
      ]
    },
    {
      "cell_type": "code",
      "source": [
        "# All 1s matrix\n",
        "np.ones((4,2,2), dtype='int32')"
      ],
      "metadata": {
        "colab": {
          "base_uri": "https://localhost:8080/"
        },
        "id": "cq6EJ2gx6OGB",
        "outputId": "9d93925b-9368-4ed3-a0fd-6f578572b62f"
      },
      "execution_count": 8,
      "outputs": [
        {
          "output_type": "execute_result",
          "data": {
            "text/plain": [
              "array([[[1, 1],\n",
              "        [1, 1]],\n",
              "\n",
              "       [[1, 1],\n",
              "        [1, 1]],\n",
              "\n",
              "       [[1, 1],\n",
              "        [1, 1]],\n",
              "\n",
              "       [[1, 1],\n",
              "        [1, 1]]], dtype=int32)"
            ]
          },
          "metadata": {},
          "execution_count": 8
        }
      ]
    },
    {
      "cell_type": "code",
      "source": [
        "# All 1s matrix\n",
        "small_ones = np.ones((4,2,2), dtype='int8')"
      ],
      "metadata": {
        "id": "VmwnV6lD6QeH"
      },
      "execution_count": 9,
      "outputs": []
    },
    {
      "cell_type": "code",
      "source": [
        "small_ones"
      ],
      "metadata": {
        "colab": {
          "base_uri": "https://localhost:8080/"
        },
        "id": "gVgHpatS6TrG",
        "outputId": "aa8ad2a4-76a5-4f2e-97fe-5bfde840de38"
      },
      "execution_count": 10,
      "outputs": [
        {
          "output_type": "execute_result",
          "data": {
            "text/plain": [
              "array([[[1, 1],\n",
              "        [1, 1]],\n",
              "\n",
              "       [[1, 1],\n",
              "        [1, 1]],\n",
              "\n",
              "       [[1, 1],\n",
              "        [1, 1]],\n",
              "\n",
              "       [[1, 1],\n",
              "        [1, 1]]], dtype=int8)"
            ]
          },
          "metadata": {},
          "execution_count": 10
        }
      ]
    },
    {
      "cell_type": "code",
      "source": [
        "small_ones.dtype"
      ],
      "metadata": {
        "colab": {
          "base_uri": "https://localhost:8080/"
        },
        "id": "cCgVXT5I6V2b",
        "outputId": "ef63bb63-12f4-403b-9c2f-c09768d82092"
      },
      "execution_count": 11,
      "outputs": [
        {
          "output_type": "execute_result",
          "data": {
            "text/plain": [
              "dtype('int8')"
            ]
          },
          "metadata": {},
          "execution_count": 11
        }
      ]
    },
    {
      "cell_type": "code",
      "source": [
        "np.full((2,2), 99)\n"
      ],
      "metadata": {
        "colab": {
          "base_uri": "https://localhost:8080/"
        },
        "id": "M5hiIN3U6YED",
        "outputId": "c2377fab-5a66-4149-d891-37d5354c7cf7"
      },
      "execution_count": 12,
      "outputs": [
        {
          "output_type": "execute_result",
          "data": {
            "text/plain": [
              "array([[99, 99],\n",
              "       [99, 99]])"
            ]
          },
          "metadata": {},
          "execution_count": 12
        }
      ]
    },
    {
      "cell_type": "code",
      "source": [
        "nf = np.full((2,2), 99)\n",
        "print(nf.dtype)"
      ],
      "metadata": {
        "colab": {
          "base_uri": "https://localhost:8080/"
        },
        "id": "hd6OE5_g6cAw",
        "outputId": "37c25e36-a39b-44dd-928c-5c69f9e1e589"
      },
      "execution_count": 13,
      "outputs": [
        {
          "output_type": "stream",
          "name": "stdout",
          "text": [
            "int64\n"
          ]
        }
      ]
    },
    {
      "cell_type": "code",
      "source": [
        "nf = np.full((2,2), 99, dtype='int8')\n",
        "print(nf)\n",
        "print(nf.dtype)"
      ],
      "metadata": {
        "colab": {
          "base_uri": "https://localhost:8080/"
        },
        "id": "i1svtq8h6gYd",
        "outputId": "4adca812-1e69-4307-9bb5-81777c06ff2f"
      },
      "execution_count": 14,
      "outputs": [
        {
          "output_type": "stream",
          "name": "stdout",
          "text": [
            "[[99 99]\n",
            " [99 99]]\n",
            "int8\n"
          ]
        }
      ]
    },
    {
      "cell_type": "code",
      "source": [
        "# exceed the int8 limit pls - periodic boundary hits :-)\n",
        "\n",
        "nf = np.full((2,2), 257, dtype='int8')\n",
        "print(nf)\n",
        "print(nf.dtype)"
      ],
      "metadata": {
        "colab": {
          "base_uri": "https://localhost:8080/"
        },
        "id": "tLuvq3rf6qOo",
        "outputId": "0541f686-d765-4259-a466-6da84e00d3ed"
      },
      "execution_count": 15,
      "outputs": [
        {
          "output_type": "stream",
          "name": "stdout",
          "text": [
            "[[1 1]\n",
            " [1 1]]\n",
            "int8\n"
          ]
        }
      ]
    },
    {
      "cell_type": "code",
      "source": [
        "nf = np.full((2,2), 256, dtype='int8') # periodic boundary hits and 0 (int8 = -128 to 127)\n",
        "print(nf)\n",
        "print(nf.dtype)"
      ],
      "metadata": {
        "colab": {
          "base_uri": "https://localhost:8080/"
        },
        "id": "aemLFF6L6wRd",
        "outputId": "68d6b805-623c-4f17-df05-1ac9d8739747"
      },
      "execution_count": 16,
      "outputs": [
        {
          "output_type": "stream",
          "name": "stdout",
          "text": [
            "[[0 0]\n",
            " [0 0]]\n",
            "int8\n"
          ]
        }
      ]
    },
    {
      "cell_type": "code",
      "source": [
        "nf = np.full((2,2), 129, dtype='int8') # periodic boundary hits and -127 obtained ofc :-) (int8 = -128 to 127)\n",
        "print(nf)\n",
        "print(nf.dtype)"
      ],
      "metadata": {
        "colab": {
          "base_uri": "https://localhost:8080/"
        },
        "id": "VOePs4N_64qE",
        "outputId": "1223038b-0874-41e8-80d1-fa27654914e1"
      },
      "execution_count": 18,
      "outputs": [
        {
          "output_type": "stream",
          "name": "stdout",
          "text": [
            "[[-127 -127]\n",
            " [-127 -127]]\n",
            "int8\n"
          ]
        }
      ]
    },
    {
      "cell_type": "code",
      "source": [
        "np.full((2,2), 1999.0)"
      ],
      "metadata": {
        "colab": {
          "base_uri": "https://localhost:8080/"
        },
        "id": "ub8Mzfaq7Z1e",
        "outputId": "cd3ad20c-e141-4cd9-a42a-9e8d63ea4bc6"
      },
      "execution_count": 20,
      "outputs": [
        {
          "output_type": "execute_result",
          "data": {
            "text/plain": [
              "array([[1999., 1999.],\n",
              "       [1999., 1999.]])"
            ]
          },
          "metadata": {},
          "execution_count": 20
        }
      ]
    },
    {
      "cell_type": "code",
      "source": [
        "# full array of same number cast into the same shape as a known array\n",
        "\n",
        "a_like = np.full_like(a, 4)\n",
        "print(a_like)\n"
      ],
      "metadata": {
        "colab": {
          "base_uri": "https://localhost:8080/"
        },
        "id": "RjQ5Lqt-71Pv",
        "outputId": "c4085ded-c49f-4aae-d365-f98185e4d585"
      },
      "execution_count": 21,
      "outputs": [
        {
          "output_type": "stream",
          "name": "stdout",
          "text": [
            "[[4 4 4 4 4 4 4]\n",
            " [4 4 4 4 4 4 4]]\n"
          ]
        }
      ]
    },
    {
      "cell_type": "code",
      "source": [
        "# random for random decimals in [0,1]\n",
        "\n",
        "# Random decimal numbers\n",
        "np.random.rand(4,2)"
      ],
      "metadata": {
        "colab": {
          "base_uri": "https://localhost:8080/"
        },
        "id": "JzZCm6Gu8B3l",
        "outputId": "089c4fcb-d4ec-40e5-8dba-02a804b5c5b4"
      },
      "execution_count": 22,
      "outputs": [
        {
          "output_type": "execute_result",
          "data": {
            "text/plain": [
              "array([[0.809911  , 0.86602478],\n",
              "       [0.52829987, 0.41710429],\n",
              "       [0.99964561, 0.67084477],\n",
              "       [0.85395782, 0.06102488]])"
            ]
          },
          "metadata": {},
          "execution_count": 22
        }
      ]
    },
    {
      "cell_type": "code",
      "source": [
        "# random ints\n",
        "# Random Integer values\n",
        "np.random.randint(-4,8, size=(3,3))"
      ],
      "metadata": {
        "colab": {
          "base_uri": "https://localhost:8080/"
        },
        "id": "T9WQfdae8HnX",
        "outputId": "0a1c4a8a-ecb2-4c57-c265-2bfb571f3a30"
      },
      "execution_count": 23,
      "outputs": [
        {
          "output_type": "execute_result",
          "data": {
            "text/plain": [
              "array([[ 7,  6,  1],\n",
              "       [ 3,  5, -3],\n",
              "       [-1, -4, -1]])"
            ]
          },
          "metadata": {},
          "execution_count": 23
        }
      ]
    },
    {
      "cell_type": "code",
      "source": [
        "# The identity matrix\n",
        "np.identity(5)"
      ],
      "metadata": {
        "colab": {
          "base_uri": "https://localhost:8080/"
        },
        "id": "xIy1m3tm8NNO",
        "outputId": "12a34372-e010-479a-80af-1458a9600785"
      },
      "execution_count": 25,
      "outputs": [
        {
          "output_type": "execute_result",
          "data": {
            "text/plain": [
              "array([[1., 0., 0., 0., 0.],\n",
              "       [0., 1., 0., 0., 0.],\n",
              "       [0., 0., 1., 0., 0.],\n",
              "       [0., 0., 0., 1., 0.],\n",
              "       [0., 0., 0., 0., 1.]])"
            ]
          },
          "metadata": {},
          "execution_count": 25
        }
      ]
    },
    {
      "cell_type": "code",
      "source": [
        "# cute but not exactly super practical\n",
        "output = np.ones((5,5))\n",
        "print(output)\n",
        "\n",
        "z = np.zeros((3,3))\n",
        "z[1,1] = 9\n",
        "print(z)\n",
        "\n",
        "output[1:-1,1:-1] = z\n",
        "print(output)"
      ],
      "metadata": {
        "colab": {
          "base_uri": "https://localhost:8080/"
        },
        "id": "hxZx0JRG8QuM",
        "outputId": "412a8f75-2540-4465-f27e-cd97accf3df7"
      },
      "execution_count": 26,
      "outputs": [
        {
          "output_type": "stream",
          "name": "stdout",
          "text": [
            "[[1. 1. 1. 1. 1.]\n",
            " [1. 1. 1. 1. 1.]\n",
            " [1. 1. 1. 1. 1.]\n",
            " [1. 1. 1. 1. 1.]\n",
            " [1. 1. 1. 1. 1.]]\n",
            "[[0. 0. 0.]\n",
            " [0. 9. 0.]\n",
            " [0. 0. 0.]]\n",
            "[[1. 1. 1. 1. 1.]\n",
            " [1. 0. 0. 0. 1.]\n",
            " [1. 0. 9. 0. 1.]\n",
            " [1. 0. 0. 0. 1.]\n",
            " [1. 1. 1. 1. 1.]]\n"
          ]
        }
      ]
    },
    {
      "cell_type": "code",
      "source": [
        "# copy\n",
        "\n",
        "a = np.array([1,2,3])\n",
        "b = a.copy()\n",
        "b[0] = 100\n",
        "\n",
        "print(a)\n",
        "print(b)"
      ],
      "metadata": {
        "colab": {
          "base_uri": "https://localhost:8080/"
        },
        "id": "bla8s3-uS0Hk",
        "outputId": "49aa2d71-f960-4597-eb9f-e10c008f7c58"
      },
      "execution_count": 27,
      "outputs": [
        {
          "output_type": "stream",
          "name": "stdout",
          "text": [
            "[1 2 3]\n",
            "[100   2   3]\n"
          ]
        }
      ]
    },
    {
      "cell_type": "markdown",
      "source": [
        "Some simple maths"
      ],
      "metadata": {
        "id": "apAX0xOgTGn0"
      }
    },
    {
      "cell_type": "code",
      "source": [
        "a = np.array([1,2,3,4])\n",
        "print(a)"
      ],
      "metadata": {
        "colab": {
          "base_uri": "https://localhost:8080/"
        },
        "id": "viAlu2nNTHtc",
        "outputId": "44713091-e67e-46af-f7a8-ff3a2cbee45d"
      },
      "execution_count": 28,
      "outputs": [
        {
          "output_type": "stream",
          "name": "stdout",
          "text": [
            "[1 2 3 4]\n"
          ]
        }
      ]
    },
    {
      "cell_type": "code",
      "source": [
        "print(a+2)"
      ],
      "metadata": {
        "colab": {
          "base_uri": "https://localhost:8080/"
        },
        "id": "FmPYcrDtTKq4",
        "outputId": "0f11fa55-c448-4c8e-e951-dee6b55e434a"
      },
      "execution_count": 29,
      "outputs": [
        {
          "output_type": "stream",
          "name": "stdout",
          "text": [
            "[3 4 5 6]\n"
          ]
        }
      ]
    },
    {
      "cell_type": "code",
      "source": [
        "b = np.array([3,5,6,7], dtype='float32')\n",
        "b"
      ],
      "metadata": {
        "colab": {
          "base_uri": "https://localhost:8080/"
        },
        "id": "ASdjcbS4TLqI",
        "outputId": "c5235457-3365-4eeb-89f8-998ad01d8999"
      },
      "execution_count": 30,
      "outputs": [
        {
          "output_type": "execute_result",
          "data": {
            "text/plain": [
              "array([3., 5., 6., 7.], dtype=float32)"
            ]
          },
          "metadata": {},
          "execution_count": 30
        }
      ]
    },
    {
      "cell_type": "code",
      "source": [
        "a / b"
      ],
      "metadata": {
        "colab": {
          "base_uri": "https://localhost:8080/"
        },
        "id": "yoWjUYKXTSZ1",
        "outputId": "a017bd7d-fb3c-4fcc-a0af-6c0571521e05"
      },
      "execution_count": 31,
      "outputs": [
        {
          "output_type": "execute_result",
          "data": {
            "text/plain": [
              "array([0.33333333, 0.4       , 0.5       , 0.57142857])"
            ]
          },
          "metadata": {},
          "execution_count": 31
        }
      ]
    },
    {
      "cell_type": "code",
      "source": [
        "c = a / b\n",
        "print(c.dtype)"
      ],
      "metadata": {
        "colab": {
          "base_uri": "https://localhost:8080/"
        },
        "id": "DfLWbx9WTTl0",
        "outputId": "564ade7e-9b3b-4edc-8b37-d476008e810f"
      },
      "execution_count": 32,
      "outputs": [
        {
          "output_type": "stream",
          "name": "stdout",
          "text": [
            "float64\n"
          ]
        }
      ]
    },
    {
      "cell_type": "code",
      "source": [
        "a * 2\n"
      ],
      "metadata": {
        "colab": {
          "base_uri": "https://localhost:8080/"
        },
        "id": "OjUiF_zqTYiS",
        "outputId": "b913b132-e1d7-41d3-9949-5cd646e19c4f"
      },
      "execution_count": 33,
      "outputs": [
        {
          "output_type": "execute_result",
          "data": {
            "text/plain": [
              "array([2, 4, 6, 8])"
            ]
          },
          "metadata": {},
          "execution_count": 33
        }
      ]
    },
    {
      "cell_type": "code",
      "source": [
        "a + c"
      ],
      "metadata": {
        "colab": {
          "base_uri": "https://localhost:8080/"
        },
        "id": "2CMceWBhfdvx",
        "outputId": "413dba9c-e12b-4c60-b313-d63b4585b5a9"
      },
      "execution_count": 34,
      "outputs": [
        {
          "output_type": "execute_result",
          "data": {
            "text/plain": [
              "array([1.33333333, 2.4       , 3.5       , 4.57142857])"
            ]
          },
          "metadata": {},
          "execution_count": 34
        }
      ]
    },
    {
      "cell_type": "code",
      "source": [
        "np.cos(a)\n"
      ],
      "metadata": {
        "colab": {
          "base_uri": "https://localhost:8080/"
        },
        "id": "ityXN-NCfiV-",
        "outputId": "ec214097-8643-401a-b871-d1511f0250d1"
      },
      "execution_count": 35,
      "outputs": [
        {
          "output_type": "execute_result",
          "data": {
            "text/plain": [
              "array([ 0.54030231, -0.41614684, -0.9899925 , -0.65364362])"
            ]
          },
          "metadata": {},
          "execution_count": 35
        }
      ]
    },
    {
      "cell_type": "code",
      "source": [
        "a = np.array([[1,2,4,8], [3, 6, 12, 24]])\n",
        "print(a)"
      ],
      "metadata": {
        "colab": {
          "base_uri": "https://localhost:8080/"
        },
        "id": "RpYkwBxOfk1x",
        "outputId": "df9a6cbc-25c1-4ff0-80d7-2c3d3a9681cf"
      },
      "execution_count": 37,
      "outputs": [
        {
          "output_type": "stream",
          "name": "stdout",
          "text": [
            "[[ 1  2  4  8]\n",
            " [ 3  6 12 24]]\n"
          ]
        }
      ]
    },
    {
      "cell_type": "code",
      "source": [
        "np.sin(a)"
      ],
      "metadata": {
        "colab": {
          "base_uri": "https://localhost:8080/"
        },
        "id": "qoPu8fJKfyAL",
        "outputId": "e172b23d-8976-49fb-9e98-5be0c83009ae"
      },
      "execution_count": 38,
      "outputs": [
        {
          "output_type": "execute_result",
          "data": {
            "text/plain": [
              "array([[ 0.84147098,  0.90929743, -0.7568025 ,  0.98935825],\n",
              "       [ 0.14112001, -0.2794155 , -0.53657292, -0.90557836]])"
            ]
          },
          "metadata": {},
          "execution_count": 38
        }
      ]
    },
    {
      "cell_type": "code",
      "source": [
        "a = np.ones((2,3))\n",
        "print(a)\n",
        "\n",
        "b = np.full((3,2), 2)\n",
        "print(b)\n",
        "\n",
        "np.matmul(a,b)"
      ],
      "metadata": {
        "colab": {
          "base_uri": "https://localhost:8080/"
        },
        "id": "6NjhPm_Wf6uH",
        "outputId": "0fa9fed1-a73c-4af1-c795-637e3ba7fc10"
      },
      "execution_count": 39,
      "outputs": [
        {
          "output_type": "stream",
          "name": "stdout",
          "text": [
            "[[1. 1. 1.]\n",
            " [1. 1. 1.]]\n",
            "[[2 2]\n",
            " [2 2]\n",
            " [2 2]]\n"
          ]
        },
        {
          "output_type": "execute_result",
          "data": {
            "text/plain": [
              "array([[6., 6.],\n",
              "       [6., 6.]])"
            ]
          },
          "metadata": {},
          "execution_count": 39
        }
      ]
    },
    {
      "cell_type": "code",
      "source": [
        "# Find the determinant\n",
        "c = np.identity(3)\n",
        "np.linalg.det(c)"
      ],
      "metadata": {
        "colab": {
          "base_uri": "https://localhost:8080/"
        },
        "id": "GCeJ1H8bgBqq",
        "outputId": "47185afb-2e6e-4338-e591-f3a46265cb84"
      },
      "execution_count": 40,
      "outputs": [
        {
          "output_type": "execute_result",
          "data": {
            "text/plain": [
              "np.float64(1.0)"
            ]
          },
          "metadata": {},
          "execution_count": 40
        }
      ]
    },
    {
      "cell_type": "code",
      "source": [
        "my_mat = np.random.randint(10, size = (3,3))\n",
        "my_mat"
      ],
      "metadata": {
        "colab": {
          "base_uri": "https://localhost:8080/"
        },
        "id": "MJvv7hYugKcw",
        "outputId": "959834ef-9abd-4b0d-bb13-4b2ebd3fadd9"
      },
      "execution_count": 41,
      "outputs": [
        {
          "output_type": "execute_result",
          "data": {
            "text/plain": [
              "array([[2, 7, 0],\n",
              "       [2, 9, 4],\n",
              "       [8, 7, 1]])"
            ]
          },
          "metadata": {},
          "execution_count": 41
        }
      ]
    },
    {
      "cell_type": "code",
      "source": [
        "# determinant\n",
        "det_my_mat = np.linalg.det(my_mat)\n",
        "print(det_my_mat)"
      ],
      "metadata": {
        "colab": {
          "base_uri": "https://localhost:8080/"
        },
        "id": "AbC7zM2igQ9f",
        "outputId": "012e30bb-d1c0-48ca-b1e6-8d1cf5107abf"
      },
      "execution_count": 42,
      "outputs": [
        {
          "output_type": "stream",
          "name": "stdout",
          "text": [
            "171.99999999999994\n"
          ]
        }
      ]
    },
    {
      "cell_type": "code",
      "source": [
        "# eigenvalues and right eigenvectors\n",
        "\n",
        "eigenvalues, eigenvectors = np.linalg.eig(my_mat)\n",
        "print(eigenvalues)\n",
        "print(eigenvectors)"
      ],
      "metadata": {
        "colab": {
          "base_uri": "https://localhost:8080/"
        },
        "id": "OznIUCu5gaAC",
        "outputId": "2dcdc55a-5843-4d09-8069-14d2ddf117f7"
      },
      "execution_count": 43,
      "outputs": [
        {
          "output_type": "stream",
          "name": "stdout",
          "text": [
            "[13.83771629+0.j        -0.91885815+3.4037474j -0.91885815-3.4037474j]\n",
            "[[ 0.40007422+0.j          0.03909412+0.50747072j  0.03909412-0.50747072j]\n",
            " [ 0.67656644+0.j         -0.26305891-0.19259551j -0.26305891+0.19259551j]\n",
            " [ 0.61822202+0.j          0.79665055+0.j          0.79665055-0.j        ]]\n"
          ]
        }
      ]
    },
    {
      "cell_type": "code",
      "source": [
        "print(eigenvalues)"
      ],
      "metadata": {
        "colab": {
          "base_uri": "https://localhost:8080/"
        },
        "id": "HSWvjfJSglkF",
        "outputId": "6ff13084-391d-4ee0-97e6-78a3664f558b"
      },
      "execution_count": 44,
      "outputs": [
        {
          "output_type": "stream",
          "name": "stdout",
          "text": [
            "[13.83771629+0.j        -0.91885815+3.4037474j -0.91885815-3.4037474j]\n"
          ]
        }
      ]
    },
    {
      "cell_type": "code",
      "source": [
        "# inverse\n",
        "inv_my_mat = np.linalg.inv(my_mat)\n",
        "print(inv_my_mat)"
      ],
      "metadata": {
        "colab": {
          "base_uri": "https://localhost:8080/"
        },
        "id": "uqDuFccGgqSl",
        "outputId": "9d5af589-a0af-4595-fd01-70ae064c21c2"
      },
      "execution_count": 46,
      "outputs": [
        {
          "output_type": "stream",
          "name": "stdout",
          "text": [
            "[[-0.11046512 -0.04069767  0.1627907 ]\n",
            " [ 0.1744186   0.01162791 -0.04651163]\n",
            " [-0.3372093   0.24418605  0.02325581]]\n"
          ]
        }
      ]
    },
    {
      "cell_type": "code",
      "source": [
        "# Moore Penrose pseudoinverse ? Same as the inverse here ofc\n",
        "\n",
        "pinv_my_mat = np.linalg.pinv(my_mat)\n",
        "print(pinv_my_mat)"
      ],
      "metadata": {
        "colab": {
          "base_uri": "https://localhost:8080/"
        },
        "id": "sEnxE9jEgwNx",
        "outputId": "2a9a5d52-89f9-4ce8-e639-67086c071d1f"
      },
      "execution_count": 47,
      "outputs": [
        {
          "output_type": "stream",
          "name": "stdout",
          "text": [
            "[[-0.11046512 -0.04069767  0.1627907 ]\n",
            " [ 0.1744186   0.01162791 -0.04651163]\n",
            " [-0.3372093   0.24418605  0.02325581]]\n"
          ]
        }
      ]
    },
    {
      "cell_type": "code",
      "source": [
        "# matrix norm\n",
        "matrix_norm_my_mat = np.linalg.matrix_norm(my_mat)\n",
        "print(matrix_norm_my_mat)"
      ],
      "metadata": {
        "colab": {
          "base_uri": "https://localhost:8080/"
        },
        "id": "e35QhAdhhArT",
        "outputId": "728ead28-6e06-4857-b7ee-47238eeea5a8"
      },
      "execution_count": 48,
      "outputs": [
        {
          "output_type": "stream",
          "name": "stdout",
          "text": [
            "16.3707055437449\n"
          ]
        }
      ]
    },
    {
      "cell_type": "code",
      "source": [
        "# Frobenius for completeness?\n",
        "frobenius_my_mat = np.linalg.norm(my_mat, ord='fro')\n",
        "print(frobenius_my_mat)"
      ],
      "metadata": {
        "colab": {
          "base_uri": "https://localhost:8080/"
        },
        "id": "aGsnwQlfhPp1",
        "outputId": "01827813-c9ed-4f85-b310-3c66a67c9e63"
      },
      "execution_count": 49,
      "outputs": [
        {
          "output_type": "stream",
          "name": "stdout",
          "text": [
            "16.3707055437449\n"
          ]
        }
      ]
    },
    {
      "cell_type": "code",
      "source": [
        "# condition number using various norms -- particularly L2, L1, Frobenius\n",
        "\n",
        "cond_my_mat = np.linalg.cond(my_mat)\n",
        "print(cond_my_mat)\n",
        "\n",
        "cond_my_mat_l1 = np.linalg.cond(my_mat, p=1)\n",
        "print(cond_my_mat_l1)\n",
        "\n",
        "cond_my_mat_fro = np.linalg.cond(my_mat, p='fro')\n",
        "print(cond_my_mat_fro)"
      ],
      "metadata": {
        "colab": {
          "base_uri": "https://localhost:8080/"
        },
        "id": "OA84shpUha5w",
        "outputId": "74cf3381-1414-480d-b964-ac24f3f5c392"
      },
      "execution_count": 50,
      "outputs": [
        {
          "output_type": "stream",
          "name": "stdout",
          "text": [
            "6.951217380684083\n",
            "14.30813953488372\n",
            "8.135397619626303\n"
          ]
        }
      ]
    },
    {
      "cell_type": "markdown",
      "source": [
        "Simple statistics"
      ],
      "metadata": {
        "id": "O3r_0ymnhxou"
      }
    },
    {
      "cell_type": "code",
      "source": [
        "stats = np.array([[1,2,3],[4,5,6]])\n",
        "stats"
      ],
      "metadata": {
        "colab": {
          "base_uri": "https://localhost:8080/"
        },
        "id": "mRIuUOcWhylx",
        "outputId": "9c625b11-d3ba-4ef3-ecb0-520afef29aa6"
      },
      "execution_count": 51,
      "outputs": [
        {
          "output_type": "execute_result",
          "data": {
            "text/plain": [
              "array([[1, 2, 3],\n",
              "       [4, 5, 6]])"
            ]
          },
          "metadata": {},
          "execution_count": 51
        }
      ]
    },
    {
      "cell_type": "code",
      "source": [
        "np.min(stats)\n"
      ],
      "metadata": {
        "colab": {
          "base_uri": "https://localhost:8080/"
        },
        "id": "_nMwX1_7h1If",
        "outputId": "9e5dd02b-6824-4b37-d6bd-9d8e5550dd90"
      },
      "execution_count": 52,
      "outputs": [
        {
          "output_type": "execute_result",
          "data": {
            "text/plain": [
              "np.int64(1)"
            ]
          },
          "metadata": {},
          "execution_count": 52
        }
      ]
    },
    {
      "cell_type": "code",
      "source": [
        "np.max(stats, axis=1)\n"
      ],
      "metadata": {
        "colab": {
          "base_uri": "https://localhost:8080/"
        },
        "id": "UuKhDkBBh3CS",
        "outputId": "698041b1-5274-49ec-dd48-d18d57aef45f"
      },
      "execution_count": 53,
      "outputs": [
        {
          "output_type": "execute_result",
          "data": {
            "text/plain": [
              "array([3, 6])"
            ]
          },
          "metadata": {},
          "execution_count": 53
        }
      ]
    },
    {
      "cell_type": "code",
      "source": [
        "np.max(stats, axis=0)"
      ],
      "metadata": {
        "colab": {
          "base_uri": "https://localhost:8080/"
        },
        "id": "0q1QdBjeh5n4",
        "outputId": "32ea5036-b35d-4ac6-da52-191ea585da64"
      },
      "execution_count": 54,
      "outputs": [
        {
          "output_type": "execute_result",
          "data": {
            "text/plain": [
              "array([4, 5, 6])"
            ]
          },
          "metadata": {},
          "execution_count": 54
        }
      ]
    },
    {
      "cell_type": "code",
      "source": [
        "m1 = np.array([[1,2,3], [2,-3,9]])\n",
        "m1"
      ],
      "metadata": {
        "colab": {
          "base_uri": "https://localhost:8080/"
        },
        "id": "36Nd8bpdh7mm",
        "outputId": "8f57b305-894e-45a4-c3cf-6af0587bd36a"
      },
      "execution_count": 55,
      "outputs": [
        {
          "output_type": "execute_result",
          "data": {
            "text/plain": [
              "array([[ 1,  2,  3],\n",
              "       [ 2, -3,  9]])"
            ]
          },
          "metadata": {},
          "execution_count": 55
        }
      ]
    },
    {
      "cell_type": "code",
      "source": [
        "np.max(m1, axis = 0)"
      ],
      "metadata": {
        "colab": {
          "base_uri": "https://localhost:8080/"
        },
        "id": "UMQO7p9QiCWY",
        "outputId": "6555ac84-fd3c-42cb-9b02-1b3c5970534d"
      },
      "execution_count": 56,
      "outputs": [
        {
          "output_type": "execute_result",
          "data": {
            "text/plain": [
              "array([2, 2, 9])"
            ]
          },
          "metadata": {},
          "execution_count": 56
        }
      ]
    },
    {
      "cell_type": "code",
      "source": [
        "np.max(m1, axis = 1)"
      ],
      "metadata": {
        "colab": {
          "base_uri": "https://localhost:8080/"
        },
        "id": "C4bTA0VpiEK4",
        "outputId": "a7ba13b9-54c7-4c98-eb10-314fee6227fa"
      },
      "execution_count": 57,
      "outputs": [
        {
          "output_type": "execute_result",
          "data": {
            "text/plain": [
              "array([3, 9])"
            ]
          },
          "metadata": {},
          "execution_count": 57
        }
      ]
    },
    {
      "cell_type": "code",
      "source": [
        "np.sum(m1, axis=0)\n"
      ],
      "metadata": {
        "colab": {
          "base_uri": "https://localhost:8080/"
        },
        "id": "j7RRuWxdiHcy",
        "outputId": "feefac01-f953-49ee-b921-51326310d6c2"
      },
      "execution_count": 58,
      "outputs": [
        {
          "output_type": "execute_result",
          "data": {
            "text/plain": [
              "array([ 3, -1, 12])"
            ]
          },
          "metadata": {},
          "execution_count": 58
        }
      ]
    },
    {
      "cell_type": "code",
      "source": [
        "np.sum(m1, axis=1)"
      ],
      "metadata": {
        "colab": {
          "base_uri": "https://localhost:8080/"
        },
        "id": "Na2Xj7xuiNtB",
        "outputId": "58f2a9ed-9344-4027-a589-be37a7174750"
      },
      "execution_count": 59,
      "outputs": [
        {
          "output_type": "execute_result",
          "data": {
            "text/plain": [
              "array([6, 8])"
            ]
          },
          "metadata": {},
          "execution_count": 59
        }
      ]
    },
    {
      "cell_type": "code",
      "source": [
        "before = np.array([[1,2,3,4],[5,6,7,8]])\n",
        "print(before)\n",
        "\n",
        "after = before.reshape((4,2))\n",
        "print(after)"
      ],
      "metadata": {
        "colab": {
          "base_uri": "https://localhost:8080/"
        },
        "id": "e-deEyjAiQdx",
        "outputId": "3f0e8d61-1a91-4e48-c074-6b1ea3a468b8"
      },
      "execution_count": 61,
      "outputs": [
        {
          "output_type": "stream",
          "name": "stdout",
          "text": [
            "[[1 2 3 4]\n",
            " [5 6 7 8]]\n",
            "[[1 2]\n",
            " [3 4]\n",
            " [5 6]\n",
            " [7 8]]\n"
          ]
        }
      ]
    },
    {
      "cell_type": "code",
      "source": [
        "# what if dims not commensurate? is there auto recycling? No - errors out on a ValueError\n",
        "after2 = before.reshape((4,3))\n",
        "print(after2)"
      ],
      "metadata": {
        "colab": {
          "base_uri": "https://localhost:8080/",
          "height": 180
        },
        "id": "5f6OchCRifG3",
        "outputId": "913764ae-fd02-4c2d-87de-0127795001e2"
      },
      "execution_count": 62,
      "outputs": [
        {
          "output_type": "error",
          "ename": "ValueError",
          "evalue": "cannot reshape array of size 8 into shape (4,3)",
          "traceback": [
            "\u001b[0;31m---------------------------------------------------------------------------\u001b[0m",
            "\u001b[0;31mValueError\u001b[0m                                Traceback (most recent call last)",
            "\u001b[0;32m/tmp/ipython-input-2243892725.py\u001b[0m in \u001b[0;36m<cell line: 0>\u001b[0;34m()\u001b[0m\n\u001b[1;32m      1\u001b[0m \u001b[0;31m# what if dims not commensurate? is there auto recycling?\u001b[0m\u001b[0;34m\u001b[0m\u001b[0;34m\u001b[0m\u001b[0m\n\u001b[0;32m----> 2\u001b[0;31m \u001b[0mafter2\u001b[0m \u001b[0;34m=\u001b[0m \u001b[0mbefore\u001b[0m\u001b[0;34m.\u001b[0m\u001b[0mreshape\u001b[0m\u001b[0;34m(\u001b[0m\u001b[0;34m(\u001b[0m\u001b[0;36m4\u001b[0m\u001b[0;34m,\u001b[0m\u001b[0;36m3\u001b[0m\u001b[0;34m)\u001b[0m\u001b[0;34m)\u001b[0m\u001b[0;34m\u001b[0m\u001b[0;34m\u001b[0m\u001b[0m\n\u001b[0m\u001b[1;32m      3\u001b[0m \u001b[0mprint\u001b[0m\u001b[0;34m(\u001b[0m\u001b[0mafter2\u001b[0m\u001b[0;34m)\u001b[0m\u001b[0;34m\u001b[0m\u001b[0;34m\u001b[0m\u001b[0m\n",
            "\u001b[0;31mValueError\u001b[0m: cannot reshape array of size 8 into shape (4,3)"
          ]
        }
      ]
    },
    {
      "cell_type": "code",
      "source": [
        "# Vertically stacking vectors\n",
        "v1 = np.array([1,2,3,4])\n",
        "v2 = np.array([5,6,7,8])\n",
        "\n",
        "v1_v2_vstack = np.vstack([v1,v2,v1,v2])\n",
        "print(v1_v2_vstack)\n",
        "print(v1_v2_vstack.shape)"
      ],
      "metadata": {
        "colab": {
          "base_uri": "https://localhost:8080/"
        },
        "id": "1tllf1T3inIK",
        "outputId": "97e516d9-6c7e-4be1-c4b1-276b48f0eb54"
      },
      "execution_count": 63,
      "outputs": [
        {
          "output_type": "stream",
          "name": "stdout",
          "text": [
            "[[1 2 3 4]\n",
            " [5 6 7 8]\n",
            " [1 2 3 4]\n",
            " [5 6 7 8]]\n",
            "(4, 4)\n"
          ]
        }
      ]
    },
    {
      "cell_type": "code",
      "source": [
        "# Horizontal  stack\n",
        "h1 = np.ones((2,4))\n",
        "h2 = np.zeros((2,2))\n",
        "\n",
        "np.hstack((h1,h2))"
      ],
      "metadata": {
        "colab": {
          "base_uri": "https://localhost:8080/"
        },
        "id": "00LSKQKFi0Vn",
        "outputId": "3d936c2f-8583-4b4d-9833-75324b2f67b7"
      },
      "execution_count": 64,
      "outputs": [
        {
          "output_type": "execute_result",
          "data": {
            "text/plain": [
              "array([[1., 1., 1., 1., 0., 0.],\n",
              "       [1., 1., 1., 1., 0., 0.]])"
            ]
          },
          "metadata": {},
          "execution_count": 64
        }
      ]
    },
    {
      "cell_type": "code",
      "source": [
        "# Masking and filtering -- 1\n",
        "\n",
        "arr = np.array([10, 20, 30, 40, 50])\n",
        "mask = arr > 25\n",
        "print(mask)\n",
        "# [False False  True  True  True]\n",
        "\n",
        "filtered = arr[mask]\n",
        "print(filtered)"
      ],
      "metadata": {
        "colab": {
          "base_uri": "https://localhost:8080/"
        },
        "id": "TYhBIcnii-v3",
        "outputId": "9bb93e5f-f818-46c0-f612-e321eb2e82a7"
      },
      "execution_count": 65,
      "outputs": [
        {
          "output_type": "stream",
          "name": "stdout",
          "text": [
            "[False False  True  True  True]\n",
            "[30 40 50]\n"
          ]
        }
      ]
    },
    {
      "cell_type": "code",
      "source": [
        "print(arr.shape)\n",
        "print(filtered.shape)"
      ],
      "metadata": {
        "colab": {
          "base_uri": "https://localhost:8080/"
        },
        "id": "LUl0GEd9jSlo",
        "outputId": "62eb637c-f62a-4003-bd38-6ff70699b147"
      },
      "execution_count": 66,
      "outputs": [
        {
          "output_type": "stream",
          "name": "stdout",
          "text": [
            "(5,)\n",
            "(3,)\n"
          ]
        }
      ]
    },
    {
      "cell_type": "code",
      "source": [
        "# inline filtering\n",
        "\n",
        "arr = np.array([3, 6, 9, 12, 15])\n",
        "print(arr[arr % 2 == 0])"
      ],
      "metadata": {
        "colab": {
          "base_uri": "https://localhost:8080/"
        },
        "id": "Bvm9R0_GjXGf",
        "outputId": "93bab83e-9ef8-4e8b-d5b4-bd50ec447ae3"
      },
      "execution_count": 67,
      "outputs": [
        {
          "output_type": "stream",
          "name": "stdout",
          "text": [
            "[ 6 12]\n"
          ]
        }
      ]
    },
    {
      "cell_type": "code",
      "source": [
        "mat = np.array([[1, 2, 3],\n",
        "                [4, 5, 6],\n",
        "                [7, 8, 9]])\n",
        "\n",
        "mask = mat > 4\n",
        "print(mask)\n",
        "print(mat[mask])"
      ],
      "metadata": {
        "colab": {
          "base_uri": "https://localhost:8080/"
        },
        "id": "qcbBZXJljcK-",
        "outputId": "f9097631-e26d-4512-b2f2-f86e32b520aa"
      },
      "execution_count": 68,
      "outputs": [
        {
          "output_type": "stream",
          "name": "stdout",
          "text": [
            "[[False False False]\n",
            " [False  True  True]\n",
            " [ True  True  True]]\n",
            "[5 6 7 8 9]\n"
          ]
        }
      ]
    },
    {
      "cell_type": "code",
      "source": [
        "mask = mat > 4\n",
        "filtered = np.where(mask, mat, 0)\n",
        "print(filtered) # preserves shape #"
      ],
      "metadata": {
        "colab": {
          "base_uri": "https://localhost:8080/"
        },
        "id": "YxXtn3frji9B",
        "outputId": "c49500d0-f0b3-48c1-9dbd-2d66a8fe087d"
      },
      "execution_count": 69,
      "outputs": [
        {
          "output_type": "stream",
          "name": "stdout",
          "text": [
            "[[0 0 0]\n",
            " [0 5 6]\n",
            " [7 8 9]]\n"
          ]
        }
      ]
    },
    {
      "cell_type": "code",
      "source": [
        "masked = np.ma.masked_where(mat <= 4, mat)\n",
        "print(masked)"
      ],
      "metadata": {
        "colab": {
          "base_uri": "https://localhost:8080/"
        },
        "id": "zXjVlQLSjzyz",
        "outputId": "7403ce38-6f4e-4c6a-a970-37b9fb7a1450"
      },
      "execution_count": 70,
      "outputs": [
        {
          "output_type": "stream",
          "name": "stdout",
          "text": [
            "[[-- -- --]\n",
            " [-- 5 6]\n",
            " [7 8 9]]\n"
          ]
        }
      ]
    },
    {
      "cell_type": "code",
      "source": [
        "# fill it in\n",
        "print(masked.filled(0))\n"
      ],
      "metadata": {
        "colab": {
          "base_uri": "https://localhost:8080/"
        },
        "id": "ilLgZ7XPj6gf",
        "outputId": "566f195d-e762-479b-b947-0690361115d7"
      },
      "execution_count": 71,
      "outputs": [
        {
          "output_type": "stream",
          "name": "stdout",
          "text": [
            "[[0 0 0]\n",
            " [0 5 6]\n",
            " [7 8 9]]\n"
          ]
        }
      ]
    },
    {
      "cell_type": "code",
      "source": [
        "arr = np.array([10, 20, 30, 40, 50])\n",
        "\n",
        "mask = (arr > 20) & (arr < 50)\n",
        "print(arr[mask])"
      ],
      "metadata": {
        "colab": {
          "base_uri": "https://localhost:8080/"
        },
        "id": "ouXmTiJdj9nu",
        "outputId": "81212233-c61d-411e-fac4-89e153050359"
      },
      "execution_count": 72,
      "outputs": [
        {
          "output_type": "stream",
          "name": "stdout",
          "text": [
            "[30 40]\n"
          ]
        }
      ]
    },
    {
      "cell_type": "code",
      "source": [
        "arr = np.array([5, 10, 15, 20])\n",
        "arr[arr > 10] = 99\n",
        "print(arr)"
      ],
      "metadata": {
        "colab": {
          "base_uri": "https://localhost:8080/"
        },
        "id": "j2hEp74IkMmU",
        "outputId": "ed2d7f21-9673-4f31-bec7-1f8f96973e31"
      },
      "execution_count": 73,
      "outputs": [
        {
          "output_type": "stream",
          "name": "stdout",
          "text": [
            "[ 5 10 99 99]\n"
          ]
        }
      ]
    },
    {
      "cell_type": "code",
      "source": [
        "arr = np.array([10, 20, 30, 40])\n",
        "indices = np.where(arr >= 25)\n",
        "print(indices)\n",
        "# (array([2, 3]),)\n",
        "print(arr[indices])\n",
        "# [30 40]"
      ],
      "metadata": {
        "colab": {
          "base_uri": "https://localhost:8080/"
        },
        "id": "timd5Kt0kQrx",
        "outputId": "d6c50343-55ed-4417-a200-aeb6663829e4"
      },
      "execution_count": 74,
      "outputs": [
        {
          "output_type": "stream",
          "name": "stdout",
          "text": [
            "(array([2, 3]),)\n",
            "[30 40]\n"
          ]
        }
      ]
    },
    {
      "cell_type": "code",
      "source": [
        "mat = np.array([[1, 2, 3],\n",
        "                [4, 5, 6],\n",
        "                [7, 8, 9]])\n",
        "\n",
        "row_mask = mat[:, 0] > 3   # based on first column\n",
        "print(mat[row_mask])"
      ],
      "metadata": {
        "colab": {
          "base_uri": "https://localhost:8080/"
        },
        "id": "G9huVYF6kVa2",
        "outputId": "871e58f2-aa0c-434b-9d16-8b5613f8ac24"
      },
      "execution_count": 75,
      "outputs": [
        {
          "output_type": "stream",
          "name": "stdout",
          "text": [
            "[[4 5 6]\n",
            " [7 8 9]]\n"
          ]
        }
      ]
    },
    {
      "cell_type": "code",
      "source": [
        "mat = np.array([[1, 2, 3],\n",
        "                [4, 5, 6],\n",
        "                [7, 8, 9]])\n",
        "\n",
        "row_mask = (mat[:, 0] > 3) & (mat[:, 1] < 6) # double filters here\n",
        "print(mat[row_mask])"
      ],
      "metadata": {
        "colab": {
          "base_uri": "https://localhost:8080/"
        },
        "id": "loDzVlGhkiRK",
        "outputId": "d842ac9a-0843-4c8f-fda7-462d69409ccd"
      },
      "execution_count": 77,
      "outputs": [
        {
          "output_type": "stream",
          "name": "stdout",
          "text": [
            "[[4 5 6]]\n"
          ]
        }
      ]
    },
    {
      "cell_type": "code",
      "source": [
        "import matplotlib.pyplot as plt\n",
        "\n",
        "# Sample data\n",
        "x = np.array([1, 2, 3, 4, 5])\n",
        "y = np.array([2, 4, 5, 4, 5])\n",
        "\n",
        "# Create a plot\n",
        "plt.plot(x, y)\n",
        "\n",
        "# Add labels and title\n",
        "plt.xlabel(\"X-axis\")\n",
        "plt.ylabel(\"Y-axis\")\n",
        "plt.title(\"Simple Plot in Colab\")\n",
        "\n",
        "# Display the plot\n",
        "plt.show()"
      ],
      "metadata": {
        "colab": {
          "base_uri": "https://localhost:8080/",
          "height": 472
        },
        "id": "hlwENatPkmKe",
        "outputId": "1863828a-78f8-4f16-ad89-2ccbf20a6318"
      },
      "execution_count": 79,
      "outputs": [
        {
          "output_type": "display_data",
          "data": {
            "text/plain": [
              "<Figure size 640x480 with 1 Axes>"
            ],
            "image/png": "[encoded data removed]"
          },
          "metadata": {}
        }
      ]
    },
    {
      "cell_type": "code",
      "source": [
        "# lambdas play with 2D numpy arrays #"
      ],
      "metadata": {
        "id": "e9zUV4hllnT1"
      },
      "execution_count": 80,
      "outputs": []
    },
    {
      "cell_type": "code",
      "source": [
        "# example 1\n",
        "\n",
        "mat = np.arange(25).reshape(5, 5)\n",
        "checker = np.fromfunction(lambda i, j: (i + j) % 2, mat.shape, dtype=int)\n",
        "print(checker)"
      ],
      "metadata": {
        "colab": {
          "base_uri": "https://localhost:8080/"
        },
        "id": "07dcmrvPlqil",
        "outputId": "346ddd08-3f95-4750-f823-49f6536bb738"
      },
      "execution_count": 81,
      "outputs": [
        {
          "output_type": "stream",
          "name": "stdout",
          "text": [
            "[[0 1 0 1 0]\n",
            " [1 0 1 0 1]\n",
            " [0 1 0 1 0]\n",
            " [1 0 1 0 1]\n",
            " [0 1 0 1 0]]\n"
          ]
        }
      ]
    },
    {
      "cell_type": "code",
      "source": [
        "# example 2\n",
        "\n",
        "# a nice nonlinear transformation\n",
        "\n",
        "n = 100\n",
        "x = np.linspace(-3, 3, n)\n",
        "y = np.linspace(-3, 3, n)\n",
        "X, Y = np.meshgrid(x, y)\n",
        "\n"
      ],
      "metadata": {
        "id": "2wyjGIZflvaI"
      },
      "execution_count": 83,
      "outputs": []
    },
    {
      "cell_type": "code",
      "source": [
        "Z = np.sin(np.sqrt(X**2 + Y**2))\n",
        "\n",
        "plt.imshow(Z, cmap='viridis', extent=[-3, 3, -3, 3])\n",
        "plt.colorbar()\n",
        "plt.show()"
      ],
      "metadata": {
        "colab": {
          "base_uri": "https://localhost:8080/",
          "height": 435
        },
        "id": "KPPdpIDhl1G1",
        "outputId": "dc92d688-1cbb-4141-8d0b-a6923cc9d65e"
      },
      "execution_count": 84,
      "outputs": [
        {
          "output_type": "display_data",
          "data": {
            "text/plain": [
              "<Figure size 640x480 with 2 Axes>"
            ],
            "image/png": "[encoded data removed]"
          },
          "metadata": {}
        }
      ]
    },
    {
      "cell_type": "code",
      "source": [
        "n = 1000\n",
        "terrain = np.fromfunction(lambda i, j: np.sin(i/100) + np.cos(j/25) + np.random.random(), (n, n))\n",
        "plt.imshow(terrain, cmap='terrain')\n",
        "plt.colorbar()\n",
        "plt.show()"
      ],
      "metadata": {
        "colab": {
          "base_uri": "https://localhost:8080/",
          "height": 435
        },
        "id": "XSdO2Ap8mmAd",
        "outputId": "fe76de3c-a99c-4130-c1f1-85c165f8cc2f"
      },
      "execution_count": 91,
      "outputs": [
        {
          "output_type": "display_data",
          "data": {
            "text/plain": [
              "<Figure size 640x480 with 2 Axes>"
            ],
            "image/png": "[encoded data removed]"
          },
          "metadata": {}
        }
      ]
    },
    {
      "cell_type": "code",
      "source": [
        "import numpy as np\n",
        "import matplotlib.pyplot as plt\n",
        "from matplotlib.colors import hsv_to_rgb\n",
        "\n",
        "n = 600  # image size\n",
        "\n",
        "# coordinate grids via lambdas + fromfunction (keeps the \"lambda vibe\")\n",
        "X = np.fromfunction(lambda i, j: (j/(n-1))*2 - 1, (n, n))\n",
        "Y = np.fromfunction(lambda i, j: (i/(n-1))*2 - 1, (n, n))\n",
        "\n",
        "# lambda helpers for polar features\n",
        "radius = (lambda x, y: np.sqrt(x**2 + y**2))(X, Y)\n",
        "angle  = (lambda x, y: np.arctan2(y, x))(X, Y)\n",
        "\n",
        "# map polar -> HSV\n",
        "h = (lambda th: (th + np.pi) / (2*np.pi))(angle)        # hue in [0,1)\n",
        "s = (lambda r: np.clip(r, 0, 1))(radius)                # saturation by radius\n",
        "v = (lambda r: 1 - 0.5*np.exp(-3*r))(radius)            # brighter near center\n",
        "\n",
        "# pack HSV and convert to RGB\n",
        "hsv = np.dstack([h, s, v])\n",
        "rgb = hsv_to_rgb(hsv)\n",
        "\n",
        "# optional ripple for flair (still lambda-based)\n",
        "ripple = (lambda r: 0.75 + 0.25*np.sin(10*r))(radius)\n",
        "rgb = rgb * ripple[..., None]\n",
        "\n",
        "plt.imshow(rgb, extent=[-1, 1, -1, 1], origin='lower')\n",
        "plt.axis('off')\n",
        "plt.show()\n"
      ],
      "metadata": {
        "colab": {
          "base_uri": "https://localhost:8080/",
          "height": 406
        },
        "id": "QZFbSoATmyPV",
        "outputId": "93e76386-cc24-4605-8761-a991e54617e4"
      },
      "execution_count": 92,
      "outputs": [
        {
          "output_type": "display_data",
          "data": {
            "text/plain": [
              "<Figure size 640x480 with 1 Axes>"
            ],
            "image/png": "[encoded data removed]"
          },
          "metadata": {}
        }
      ]
    },
    {
      "cell_type": "code",
      "source": [
        "n = 6\n",
        "X = np.fromfunction(lambda i, j : i+j+i*j , (n,n))"
      ],
      "metadata": {
        "id": "lzIZgxmLnfD4"
      },
      "execution_count": 95,
      "outputs": []
    },
    {
      "cell_type": "code",
      "source": [
        "X"
      ],
      "metadata": {
        "colab": {
          "base_uri": "https://localhost:8080/"
        },
        "id": "-xhrPa9foGoW",
        "outputId": "0d81918d-56ea-405b-fb25-734a4fb48550"
      },
      "execution_count": 96,
      "outputs": [
        {
          "output_type": "execute_result",
          "data": {
            "text/plain": [
              "array([[ 0.,  1.,  2.,  3.,  4.,  5.],\n",
              "       [ 1.,  3.,  5.,  7.,  9., 11.],\n",
              "       [ 2.,  5.,  8., 11., 14., 17.],\n",
              "       [ 3.,  7., 11., 15., 19., 23.],\n",
              "       [ 4.,  9., 14., 19., 24., 29.],\n",
              "       [ 5., 11., 17., 23., 29., 35.]])"
            ]
          },
          "metadata": {},
          "execution_count": 96
        }
      ]
    },
    {
      "cell_type": "code",
      "source": [
        "#Rademacher matrix\n",
        "\n",
        "random_1 = np.fromfunction(lambda i,j : 2*np.random.randint(0, 2, (n, n)) - 1, (n, n) )\n",
        "print(random_1)"
      ],
      "metadata": {
        "colab": {
          "base_uri": "https://localhost:8080/"
        },
        "id": "uwMvMIxEoHAw",
        "outputId": "cf53fc46-e339-4031-bdb8-64e42ec07b56"
      },
      "execution_count": 99,
      "outputs": [
        {
          "output_type": "stream",
          "name": "stdout",
          "text": [
            "[[ 1 -1  1 -1  1  1]\n",
            " [-1  1  1 -1 -1  1]\n",
            " [-1 -1  1  1 -1 -1]\n",
            " [-1  1  1  1  1  1]\n",
            " [ 1 -1  1 -1 -1  1]\n",
            " [ 1 -1 -1  1  1  1]]\n"
          ]
        }
      ]
    },
    {
      "cell_type": "code",
      "source": [
        "np.linalg.eig(random_1)"
      ],
      "metadata": {
        "colab": {
          "base_uri": "https://localhost:8080/"
        },
        "id": "8Yj30WVCpBl2",
        "outputId": "db64ac1f-6ada-45c4-c230-db783421b43f"
      },
      "execution_count": 100,
      "outputs": [
        {
          "output_type": "execute_result",
          "data": {
            "text/plain": [
              "EigResult(eigenvalues=array([-0.73205081+0.j        ,  2.73205081+0.j        ,\n",
              "       -1.        +1.73205081j, -1.        -1.73205081j,\n",
              "        2.        +0.j        ,  2.        +0.j        ]), eigenvectors=array([[ 6.98794358e-01+0.j        ,  2.97673516e-01+0.j        ,\n",
              "        -3.75000000e-01+0.21650635j, -3.75000000e-01-0.21650635j,\n",
              "        -7.97287235e-16+0.j        , -2.27956588e-16+0.j        ],\n",
              "       [ 4.03449111e-01+0.j        , -1.71861885e-01+0.j        ,\n",
              "        -5.00000000e-01+0.j        , -5.00000000e-01-0.j        ,\n",
              "         1.67849944e-16+0.j        , -4.79880381e-17+0.j        ],\n",
              "       [ 1.08103863e-01+0.j        , -6.41397285e-01+0.j        ,\n",
              "        -1.25000000e-01-0.36084392j, -1.25000000e-01+0.36084392j,\n",
              "         7.07106781e-01+0.j        ,  3.65234039e-01+0.j        ],\n",
              "       [ 4.03449111e-01+0.j        , -1.71861885e-01+0.j        ,\n",
              "        -1.25000000e-01+0.36084392j, -1.25000000e-01-0.36084392j,\n",
              "         1.89876053e-11+0.j        ,  8.15035451e-01+0.j        ],\n",
              "       [-4.03449111e-01+0.j        ,  1.71861885e-01+0.j        ,\n",
              "        -3.75000000e-01-0.21650635j, -3.75000000e-01+0.21650635j,\n",
              "        -4.19624860e-16+0.j        ,  1.91952152e-16+0.j        ],\n",
              "       [-1.08103863e-01+0.j        ,  6.41397285e-01+0.j        ,\n",
              "         2.50000000e-01-0.14433757j,  2.50000000e-01+0.14433757j,\n",
              "        -7.07106781e-01+0.j        ,  4.49801412e-01+0.j        ]]))"
            ]
          },
          "metadata": {},
          "execution_count": 100
        }
      ]
    },
    {
      "cell_type": "code",
      "source": [
        "# condition number ogf above\n",
        "\n",
        "np.linalg.cond(random_1)"
      ],
      "metadata": {
        "colab": {
          "base_uri": "https://localhost:8080/"
        },
        "id": "BW3udPcCpHye",
        "outputId": "8fe2894f-e610-4049-fa6e-9e39ac16fc19"
      },
      "execution_count": 101,
      "outputs": [
        {
          "output_type": "execute_result",
          "data": {
            "text/plain": [
              "np.float64(8.64677887679747)"
            ]
          },
          "metadata": {},
          "execution_count": 101
        }
      ]
    },
    {
      "cell_type": "code",
      "source": [],
      "metadata": {
        "id": "KqIGtVANpRIH"
      },
      "execution_count": null,
      "outputs": []
    }
  ]
}